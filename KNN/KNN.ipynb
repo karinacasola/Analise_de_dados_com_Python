{
 "cells": [
  {
   "cell_type": "code",
   "execution_count": 1,
   "metadata": {},
   "outputs": [],
   "source": [
    "#Importando as bibliotecas\n",
    "from sklearn import cluster, neighbors,metrics\n",
    "import numpy as np"
   ]
  },
  {
   "cell_type": "code",
   "execution_count": 2,
   "metadata": {},
   "outputs": [],
   "source": [
    "#importando a base\n",
    "dacc=np.load(\"/Users/LENOVO/Documents/Análise de dados com Python/KNN/daccpca.npy\")"
   ]
  },
  {
   "cell_type": "code",
   "execution_count": 3,
   "metadata": {},
   "outputs": [
    {
     "data": {
      "text/plain": [
       "522"
      ]
     },
     "execution_count": 3,
     "metadata": {},
     "output_type": "execute_result"
    }
   ],
   "source": [
    "#Número de linhas das dados. Ou seja numero de amostras:\n",
    "len(dacc)"
   ]
  },
  {
   "cell_type": "code",
   "execution_count": 4,
   "metadata": {},
   "outputs": [
    {
     "data": {
      "text/plain": [
       "array([4., 2., 2., 1., 1., 1., 1., 1., 4., 2., 3., 1., 2., 2., 1., 2., 1.,\n",
       "       2., 2., 2., 3., 1., 2., 1., 1., 3., 5., 3., 2., 1., 1., 2., 2., 2.,\n",
       "       1., 0., 2., 0., 2., 2., 2., 1., 5., 2., 2., 2., 1., 0., 1., 2., 1.,\n",
       "       2., 3., 0., 2., 0., 0., 2., 0., 2., 2., 2., 6., 2., 2., 2., 1., 0.,\n",
       "       1., 2., 1., 3., 2., 1., 2., 2., 2., 2., 6., 2., 2., 0., 2., 6., 2.,\n",
       "       2., 2., 2., 0., 3., 2., 2., 2., 6., 2., 2., 2., 0., 2., 0., 4., 2.,\n",
       "       2., 1., 0., 1., 2., 4., 2., 1., 2., 2., 2., 1., 1., 3., 2., 4., 4.,\n",
       "       1., 2., 2., 3., 2., 2., 2., 1., 1., 2., 2., 1., 0., 5., 6., 2., 3.,\n",
       "       2., 2., 2., 2., 3., 2., 0., 6., 6., 2., 3., 0., 3., 3., 1., 2., 0.,\n",
       "       0., 2., 0., 2., 2., 2., 0., 0., 2., 2., 5., 3., 3., 0., 2., 2., 3.,\n",
       "       5., 2., 2., 4., 2., 2., 2., 1., 3., 1., 1., 1., 1., 1., 2., 1., 2.,\n",
       "       2., 4., 1., 1., 2., 2., 2., 1., 1., 2., 4., 1., 6., 1., 2., 2., 2.,\n",
       "       1., 1., 1., 3., 1., 2., 1., 2., 2., 3., 2., 1., 5., 4., 2., 3., 3.,\n",
       "       2., 3., 2., 3., 2., 2., 2., 2., 1., 0., 1., 0., 5., 3., 1., 2., 3.,\n",
       "       2., 4., 1., 1., 1., 2., 0., 1., 2., 0., 0., 2., 2., 2., 2., 4., 0.,\n",
       "       1., 2., 2., 2., 2., 1., 2., 2., 4., 3., 1., 1., 1., 0., 2., 3., 0.,\n",
       "       2., 1., 1., 1., 1., 1., 3., 1., 2., 2., 2., 2., 1., 2., 1., 2., 1.,\n",
       "       6., 1., 1., 2., 1., 2., 1., 5., 4., 1., 2., 1., 2., 2., 1., 0., 2.,\n",
       "       1., 0., 2., 2., 1., 1., 3., 1., 0., 1., 1., 2., 1., 2., 2., 1., 1.,\n",
       "       1., 1., 1., 3., 2., 1., 1., 1., 1., 2., 1., 1., 2., 1., 1., 2., 1.,\n",
       "       1., 2., 2., 2., 2., 2., 1., 0., 1., 2., 1., 1., 1., 2., 0., 2., 1.,\n",
       "       1., 1., 1., 1., 4., 2., 2., 1., 1., 2., 2., 2., 2., 2., 1., 1., 2.,\n",
       "       1., 2., 1., 2., 1., 2., 1., 2., 6., 1., 3., 3., 0., 4., 2., 2., 2.,\n",
       "       2., 3., 2., 4., 4., 1., 1., 2., 1., 2., 2., 6., 1., 2., 1., 2., 2.,\n",
       "       2., 2., 1., 2., 3., 2., 1., 1., 2., 5., 3., 2., 0., 3., 2., 2., 2.,\n",
       "       2., 0., 2., 2., 2., 2., 5., 2., 1., 1., 1., 2., 2., 2., 1., 1., 2.,\n",
       "       0., 2., 1., 2., 3., 3., 2., 2., 2., 2., 1., 0., 2., 2., 2., 1., 2.,\n",
       "       1., 2., 0., 6., 4., 2., 2., 2., 3., 2., 1., 1., 2., 6., 2., 2., 2.,\n",
       "       4., 2., 4., 3., 2., 3., 2., 1., 2., 2., 1., 2., 0., 1., 1., 2., 1.,\n",
       "       6., 1., 0., 1., 2., 2., 2., 1., 1., 2., 2., 3., 1., 3., 4., 1., 2.,\n",
       "       3., 1., 1., 1., 1., 2., 1., 2., 6., 1., 0., 1.])"
      ]
     },
     "execution_count": 4,
     "metadata": {},
     "output_type": "execute_result"
    }
   ],
   "source": [
    "#Rótulos das amostras\n",
    "dacc[:,-1]"
   ]
  },
  {
   "cell_type": "markdown",
   "metadata": {},
   "source": [
<<<<<<< HEAD
    "# Usando classificação supervisionado com o método k-nn (k vizinhos mais próximos)"
=======
    "# Usando classificação supervisinado com o método k-nn (k vizinhos mais próximos)"
>>>>>>> 4d3dfbcd7552d4ae28953d065bdaea9a1d73da06
   ]
  },
  {
   "cell_type": "code",
   "execution_count": 5,
   "metadata": {},
   "outputs": [],
   "source": [
    "clf = neighbors.KNeighborsClassifier(5, metric='euclidean',weights='distance')"
   ]
  },
  {
   "cell_type": "code",
   "execution_count": 6,
   "metadata": {},
   "outputs": [],
   "source": [
    "#Treinamento do modelo KNN"
   ]
  },
  {
   "cell_type": "code",
   "execution_count": 7,
   "metadata": {},
   "outputs": [
    {
     "data": {
      "text/plain": [
       "KNeighborsClassifier(algorithm='auto', leaf_size=30, metric='euclidean',\n",
       "                     metric_params=None, n_jobs=None, n_neighbors=5, p=2,\n",
       "                     weights='distance')"
      ]
     },
     "execution_count": 7,
     "metadata": {},
     "output_type": "execute_result"
    }
   ],
   "source": [
    "clf.fit(dacc[:,0:-2], dacc[:,-1])"
   ]
  },
  {
   "cell_type": "code",
   "execution_count": 8,
   "metadata": {},
   "outputs": [],
   "source": [
    "#Fazendo a predição dos dados\n",
    "z=clf.predict(dacc[:,0:-2])"
   ]
  },
  {
   "cell_type": "code",
   "execution_count": 9,
   "metadata": {},
   "outputs": [
    {
     "data": {
      "text/plain": [
       "array([4., 2., 2., 1., 1., 1., 1., 1., 4., 2., 3., 1., 2., 2., 1., 2., 1.,\n",
       "       2., 2., 2., 3., 1., 2., 1., 1., 3., 5., 3., 2., 1., 1., 2., 2., 2.,\n",
       "       1., 0., 2., 0., 2., 2., 2., 1., 5., 2., 2., 2., 1., 0., 1., 2., 1.,\n",
       "       2., 3., 0., 2., 0., 0., 2., 0., 2., 2., 2., 6., 2., 2., 2., 1., 0.,\n",
       "       2., 2., 1., 3., 2., 1., 2., 2., 2., 2., 6., 2., 2., 0., 2., 6., 2.,\n",
       "       2., 2., 2., 0., 3., 2., 2., 2., 6., 2., 2., 2., 0., 2., 0., 4., 2.,\n",
       "       2., 1., 0., 1., 2., 4., 2., 1., 2., 2., 2., 1., 1., 3., 2., 4., 4.,\n",
       "       1., 2., 2., 3., 2., 2., 2., 1., 1., 2., 2., 1., 0., 5., 6., 2., 3.,\n",
       "       2., 2., 2., 2., 3., 2., 0., 6., 6., 2., 3., 0., 3., 3., 1., 2., 0.,\n",
       "       0., 2., 0., 2., 2., 2., 0., 0., 2., 2., 5., 3., 3., 0., 2., 2., 3.,\n",
       "       5., 2., 2., 4., 2., 2., 2., 1., 3., 1., 1., 1., 1., 1., 2., 1., 2.,\n",
       "       2., 4., 1., 1., 2., 2., 2., 1., 1., 2., 4., 2., 6., 1., 2., 2., 2.,\n",
       "       1., 1., 1., 3., 1., 2., 1., 2., 2., 3., 2., 1., 5., 4., 2., 3., 3.,\n",
       "       2., 3., 2., 3., 2., 2., 2., 2., 1., 0., 2., 0., 5., 3., 1., 2., 3.,\n",
       "       2., 4., 1., 1., 1., 2., 0., 1., 2., 0., 0., 2., 2., 2., 2., 4., 0.,\n",
       "       1., 2., 2., 2., 2., 1., 2., 2., 4., 3., 1., 1., 1., 0., 2., 2., 0.,\n",
       "       2., 1., 1., 1., 1., 1., 3., 1., 2., 2., 2., 2., 1., 2., 1., 2., 1.,\n",
       "       6., 1., 1., 2., 1., 2., 1., 5., 4., 1., 2., 1., 2., 2., 1., 0., 2.,\n",
       "       1., 0., 2., 2., 1., 1., 3., 1., 0., 1., 1., 2., 1., 2., 2., 1., 1.,\n",
       "       1., 1., 1., 3., 2., 1., 1., 1., 1., 2., 1., 1., 2., 1., 1., 2., 1.,\n",
       "       1., 2., 2., 2., 2., 2., 2., 0., 1., 2., 2., 1., 1., 2., 0., 2., 1.,\n",
       "       1., 1., 1., 1., 4., 2., 2., 1., 1., 2., 2., 2., 2., 2., 1., 1., 2.,\n",
       "       1., 2., 1., 2., 1., 2., 1., 2., 6., 1., 3., 3., 0., 4., 2., 2., 2.,\n",
       "       2., 3., 2., 4., 4., 1., 1., 2., 1., 2., 2., 6., 1., 2., 1., 2., 2.,\n",
       "       2., 2., 1., 2., 3., 2., 1., 1., 2., 5., 3., 2., 0., 3., 2., 2., 2.,\n",
       "       2., 0., 2., 2., 2., 2., 5., 2., 1., 1., 1., 2., 2., 2., 1., 1., 2.,\n",
       "       0., 2., 1., 2., 3., 3., 2., 2., 2., 2., 1., 0., 2., 2., 2., 1., 2.,\n",
       "       1., 2., 0., 6., 4., 2., 2., 2., 3., 2., 1., 1., 2., 6., 2., 2., 2.,\n",
       "       4., 2., 4., 3., 2., 3., 2., 1., 2., 2., 1., 2., 0., 1., 1., 2., 1.,\n",
       "       6., 1., 0., 1., 2., 2., 2., 1., 1., 2., 2., 3., 1., 3., 4., 1., 2.,\n",
       "       3., 1., 1., 2., 1., 2., 1., 2., 6., 1., 0., 1.])"
      ]
     },
     "execution_count": 9,
     "metadata": {},
     "output_type": "execute_result"
    }
   ],
   "source": [
    "z"
   ]
  },
  {
   "cell_type": "markdown",
   "metadata": {},
   "source": [
    "# Vamos calcular a acurácia da classificação:"
   ]
  },
  {
   "cell_type": "code",
   "execution_count": 11,
   "metadata": {},
   "outputs": [
    {
     "data": {
      "text/plain": [
       "0.9865900383141762"
      ]
     },
     "execution_count": 11,
     "metadata": {},
     "output_type": "execute_result"
    }
   ],
   "source": [
    "#Resultado excepcionalmente bom com 98,65% de acuracia\n",
    "metrics.accuracy_score(dacc[:,-1],z)"
   ]
  },
  {
   "cell_type": "code",
   "execution_count": 12,
   "metadata": {},
   "outputs": [
    {
     "data": {
      "text/plain": [
       "array([[ 44,   0,   0,   0,   0,   0,   0],\n",
       "       [  0, 151,   6,   0,   0,   0,   0],\n",
       "       [  0,   0, 229,   0,   0,   0,   0],\n",
       "       [  0,   0,   1,  44,   0,   0,   0],\n",
       "       [  0,   0,   0,   0,  22,   0,   0],\n",
       "       [  0,   0,   0,   0,   0,  10,   0],\n",
       "       [  0,   0,   0,   0,   0,   0,  15]], dtype=int64)"
      ]
     },
     "execution_count": 12,
     "metadata": {},
     "output_type": "execute_result"
    }
   ],
   "source": [
    "#Matriz de confusão mostrando que a classificação é muito boa.\n",
    "metrics.confusion_matrix(dacc[:,-1],z)\n"
   ]
  },
  {
   "cell_type": "code",
   "execution_count": null,
   "metadata": {},
   "outputs": [],
   "source": []
  }
 ],
 "metadata": {
  "kernelspec": {
   "display_name": "Python 3",
   "language": "python",
   "name": "python3"
  },
  "language_info": {
   "codemirror_mode": {
    "name": "ipython",
    "version": 3
   },
   "file_extension": ".py",
   "mimetype": "text/x-python",
   "name": "python",
   "nbconvert_exporter": "python",
   "pygments_lexer": "ipython3",
   "version": "3.7.4"
  }
 },
 "nbformat": 4,
 "nbformat_minor": 2
}
